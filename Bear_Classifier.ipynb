{
 "cells": [
  {
   "cell_type": "markdown",
   "id": "animated-lindsay",
   "metadata": {},
   "source": [
    "## The amazing bear classifier"
   ]
  },
  {
   "cell_type": "code",
   "execution_count": 2,
   "id": "numerous-drunk",
   "metadata": {
    "ExecuteTime": {
     "end_time": "2021-01-27T13:52:33.617185Z",
     "start_time": "2021-01-27T13:52:33.499930Z"
    }
   },
   "outputs": [
    {
     "ename": "ModuleNotFoundError",
     "evalue": "No module named 'fastbook'",
     "output_type": "error",
     "traceback": [
      "\u001b[0;31m---------------------------------------------------------------------------\u001b[0m",
      "\u001b[0;31mModuleNotFoundError\u001b[0m                       Traceback (most recent call last)",
      "\u001b[0;32m<ipython-input-2-8fac0ef4a991>\u001b[0m in \u001b[0;36m<module>\u001b[0;34m\u001b[0m\n\u001b[0;32m----> 1\u001b[0;31m \u001b[0;32mimport\u001b[0m \u001b[0mfastbook\u001b[0m\u001b[0;34m\u001b[0m\u001b[0;34m\u001b[0m\u001b[0m\n\u001b[0m\u001b[1;32m      2\u001b[0m \u001b[0mfastbook\u001b[0m\u001b[0;34m.\u001b[0m\u001b[0msetup_book\u001b[0m\u001b[0;34m(\u001b[0m\u001b[0;34m)\u001b[0m\u001b[0;34m\u001b[0m\u001b[0;34m\u001b[0m\u001b[0m\n",
      "\u001b[0;31mModuleNotFoundError\u001b[0m: No module named 'fastbook'"
     ]
    }
   ],
   "source": [
    "import fastbook\n",
    "fastbook.setup_book()"
   ]
  },
  {
   "cell_type": "code",
   "execution_count": 3,
   "id": "moving-montana",
   "metadata": {
    "ExecuteTime": {
     "end_time": "2021-01-27T13:52:35.097553Z",
     "start_time": "2021-01-27T13:52:35.036146Z"
    }
   },
   "outputs": [
    {
     "ename": "ModuleNotFoundError",
     "evalue": "No module named 'fastbook'",
     "output_type": "error",
     "traceback": [
      "\u001b[0;31m---------------------------------------------------------------------------\u001b[0m",
      "\u001b[0;31mModuleNotFoundError\u001b[0m                       Traceback (most recent call last)",
      "\u001b[0;32m<ipython-input-3-d9effabe3e97>\u001b[0m in \u001b[0;36m<module>\u001b[0;34m\u001b[0m\n\u001b[0;32m----> 1\u001b[0;31m \u001b[0;32mfrom\u001b[0m \u001b[0mfastbook\u001b[0m \u001b[0;32mimport\u001b[0m \u001b[0;34m*\u001b[0m\u001b[0;34m\u001b[0m\u001b[0;34m\u001b[0m\u001b[0m\n\u001b[0m\u001b[1;32m      2\u001b[0m \u001b[0;32mfrom\u001b[0m \u001b[0mfastai\u001b[0m\u001b[0;34m.\u001b[0m\u001b[0mvision\u001b[0m\u001b[0;34m.\u001b[0m\u001b[0mwidgets\u001b[0m \u001b[0;32mimport\u001b[0m \u001b[0;34m*\u001b[0m\u001b[0;34m\u001b[0m\u001b[0;34m\u001b[0m\u001b[0m\n",
      "\u001b[0;31mModuleNotFoundError\u001b[0m: No module named 'fastbook'"
     ]
    }
   ],
   "source": [
    "from fastbook import *\n",
    "from fastai.vision.widgets import *"
   ]
  },
  {
   "cell_type": "code",
   "execution_count": 3,
   "id": "subtle-ballet",
   "metadata": {
    "ExecuteTime": {
     "end_time": "2021-01-27T13:45:41.543328Z",
     "start_time": "2021-01-27T13:45:41.384919Z"
    }
   },
   "outputs": [],
   "source": [
    "path = Path()\n",
    "learn_inf = load_learner(path/'export.pkl', cpu=True)\n",
    "btn_upload = widgets.FileUpload()\n",
    "out_pl = widgets.Output()\n",
    "lbl_pred = widgets.Label()"
   ]
  },
  {
   "cell_type": "code",
   "execution_count": 4,
   "id": "threatened-practice",
   "metadata": {
    "ExecuteTime": {
     "end_time": "2021-01-27T13:45:42.179187Z",
     "start_time": "2021-01-27T13:45:42.144380Z"
    }
   },
   "outputs": [],
   "source": [
    "def on_click(change):\n",
    "    img = PILImage.create(btn_upload.data[-1])\n",
    "    out_pl.clear_output()\n",
    "    with out_pl: display(img.to_thumb(128,128))\n",
    "    pred,pred_idx,probs = learn_inf.predict(img)\n",
    "    lbl_pred.value = f'Prediction: {pred}; Probability: {probs[pred_idx]:.04f}'"
   ]
  },
  {
   "cell_type": "code",
   "execution_count": 5,
   "id": "boolean-investigation",
   "metadata": {
    "ExecuteTime": {
     "end_time": "2021-01-27T13:45:43.050218Z",
     "start_time": "2021-01-27T13:45:43.027192Z"
    }
   },
   "outputs": [],
   "source": [
    "btn_upload.observe(on_click, names=['data'])"
   ]
  },
  {
   "cell_type": "code",
   "execution_count": 6,
   "id": "insured-riverside",
   "metadata": {
    "ExecuteTime": {
     "end_time": "2021-01-27T13:45:44.948425Z",
     "start_time": "2021-01-27T13:45:44.904298Z"
    }
   },
   "outputs": [
    {
     "data": {
      "application/vnd.jupyter.widget-view+json": {
       "model_id": "6c77e996e3374e8abb8749ceb3cea42e",
       "version_major": 2,
       "version_minor": 0
      },
      "text/plain": [
       "VBox(children=(Label(value='Select your bear!'), FileUpload(value={}, description='Upload'), Output(), Label(v…"
      ]
     },
     "metadata": {},
     "output_type": "display_data"
    }
   ],
   "source": [
    "display(VBox([widgets.Label('Select your bear!'), btn_upload, out_pl, lbl_pred]))"
   ]
  },
  {
   "cell_type": "code",
   "execution_count": 1,
   "id": "flexible-scanning",
   "metadata": {
    "ExecuteTime": {
     "end_time": "2021-01-27T13:52:24.815445Z",
     "start_time": "2021-01-27T13:52:24.462141Z"
    }
   },
   "outputs": [
    {
     "name": "stdout",
     "output_type": "stream",
     "text": [
      "Enabling: voila\r\n",
      "- Writing config: /home/johann/.jupyter\r\n",
      "    - Validating...\r\n",
      "Error loading server extension voila\r\n",
      "     \u001b[31m X\u001b[0m is voila importable?\r\n"
     ]
    }
   ],
   "source": [
    "#!jupyter serverextension enable voila --user"
   ]
  },
  {
   "cell_type": "code",
   "execution_count": null,
   "id": "compact-fraud",
   "metadata": {
    "ExecuteTime": {
     "start_time": "2021-01-27T13:39:23.797Z"
    }
   },
   "outputs": [
    {
     "name": "stdout",
     "output_type": "stream",
     "text": [
      "[Voila] Using /tmp to store connection files\n",
      "[Voila] Storing connection files in /tmp/voila_48zxhxru.\n",
      "[Voila] Serving static files from /home/johann/anaconda3/envs/fastai/lib/python3.7/site-packages/voila/static.\n",
      "[Voila] The port 8866 is already in use, trying another port.\n",
      "[Voila] Voilà is running at:\n",
      "http://localhost:8867/\n",
      "[Voila] Kernel started: 8d668990-1d69-485f-9ea8-b7c55ae5a484\n",
      "WARNING:tornado.general:403 GET /voila/files/favicon.ico (127.0.0.1): File not whitelisted\n",
      "WARNING:tornado.access:403 GET /voila/files/favicon.ico (127.0.0.1) 0.76ms\n",
      "[Voila] Starting buffering for 8d668990-1d69-485f-9ea8-b7c55ae5a484:74d88dc8-fef6-41b6-ac8c-3ccec2cc210b\n",
      "[Voila] Kernel shutdown: 8d668990-1d69-485f-9ea8-b7c55ae5a484\n"
     ]
    }
   ],
   "source": [
    "#!voila Bear_Classifier.ipynb"
   ]
  },
  {
   "cell_type": "markdown",
   "id": "floppy-privacy",
   "metadata": {},
   "source": [
    "### Deploying zo Heroku"
   ]
  },
  {
   "cell_type": "markdown",
   "id": "promotional-receiver",
   "metadata": {},
   "source": [
    "https://course.fast.ai/deployment_heroku"
   ]
  }
 ],
 "metadata": {
  "hide_input": false,
  "kernelspec": {
   "display_name": "Python 3",
   "language": "python",
   "name": "python3"
  },
  "language_info": {
   "codemirror_mode": {
    "name": "ipython",
    "version": 3
   },
   "file_extension": ".py",
   "mimetype": "text/x-python",
   "name": "python",
   "nbconvert_exporter": "python",
   "pygments_lexer": "ipython3",
   "version": "3.7.9"
  },
  "toc": {
   "base_numbering": 1,
   "nav_menu": {},
   "number_sections": true,
   "sideBar": true,
   "skip_h1_title": false,
   "title_cell": "Zusammenfassung",
   "title_sidebar": "Inhalte",
   "toc_cell": false,
   "toc_position": {},
   "toc_section_display": true,
   "toc_window_display": false
  },
  "varInspector": {
   "cols": {
    "lenName": 16,
    "lenType": 16,
    "lenVar": 40
   },
   "kernels_config": {
    "python": {
     "delete_cmd_postfix": "",
     "delete_cmd_prefix": "del ",
     "library": "var_list.py",
     "varRefreshCmd": "print(var_dic_list())"
    },
    "r": {
     "delete_cmd_postfix": ") ",
     "delete_cmd_prefix": "rm(",
     "library": "var_list.r",
     "varRefreshCmd": "cat(var_dic_list()) "
    }
   },
   "types_to_exclude": [
    "module",
    "function",
    "builtin_function_or_method",
    "instance",
    "_Feature"
   ],
   "window_display": false
  }
 },
 "nbformat": 4,
 "nbformat_minor": 5
}
