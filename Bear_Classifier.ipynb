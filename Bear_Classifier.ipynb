{
 "cells": [
  {
   "cell_type": "markdown",
   "id": "animated-lindsay",
   "metadata": {},
   "source": [
    "## The amazing bear classifier"
   ]
  },
  {
   "cell_type": "code",
   "execution_count": 1,
   "id": "simplified-chair",
   "metadata": {
    "ExecuteTime": {
     "end_time": "2021-01-27T19:46:14.839857Z",
     "start_time": "2021-01-27T19:46:11.807857Z"
    }
   },
   "outputs": [
    {
     "name": "stdout",
     "output_type": "stream",
     "text": [
      "Requirement already satisfied: graphviz in /home/johann/.local/lib/python3.7/site-packages (0.16)\r\n"
     ]
    }
   ],
   "source": [
    "!pip install graphviz\n",
    "!pip install -Uqq fastbook"
   ]
  },
  {
   "cell_type": "code",
   "execution_count": 2,
   "id": "numerous-drunk",
   "metadata": {
    "ExecuteTime": {
     "end_time": "2021-01-27T19:46:19.301239Z",
     "start_time": "2021-01-27T19:46:17.544326Z"
    }
   },
   "outputs": [
    {
     "name": "stderr",
     "output_type": "stream",
     "text": [
      "/home/johann/anaconda3/envs/fastai/lib/python3.7/site-packages/torch/cuda/__init__.py:52: UserWarning: CUDA initialization: Found no NVIDIA driver on your system. Please check that you have an NVIDIA GPU and installed a driver from http://www.nvidia.com/Download/index.aspx (Triggered internally at  /pytorch/c10/cuda/CUDAFunctions.cpp:100.)\n",
      "  return torch._C._cuda_getDeviceCount() > 0\n"
     ]
    }
   ],
   "source": [
    "import fastbook\n",
    "#fastbook.setup_book()"
   ]
  },
  {
   "cell_type": "code",
   "execution_count": 3,
   "id": "moving-montana",
   "metadata": {
    "ExecuteTime": {
     "end_time": "2021-01-27T19:46:21.033582Z",
     "start_time": "2021-01-27T19:46:21.001579Z"
    }
   },
   "outputs": [],
   "source": [
    "from fastbook import *\n",
    "from fastai.vision.widgets import *"
   ]
  },
  {
   "cell_type": "code",
   "execution_count": 4,
   "id": "subtle-ballet",
   "metadata": {
    "ExecuteTime": {
     "end_time": "2021-01-27T19:46:22.964634Z",
     "start_time": "2021-01-27T19:46:22.824465Z"
    }
   },
   "outputs": [],
   "source": [
    "path = Path()\n",
    "learn_inf = load_learner(path/'export.pkl', cpu=True)\n",
    "btn_upload = widgets.FileUpload()\n",
    "out_pl = widgets.Output()\n",
    "lbl_pred = widgets.Label()"
   ]
  },
  {
   "cell_type": "code",
   "execution_count": 5,
   "id": "threatened-practice",
   "metadata": {
    "ExecuteTime": {
     "end_time": "2021-01-27T19:46:29.612225Z",
     "start_time": "2021-01-27T19:46:29.571382Z"
    }
   },
   "outputs": [],
   "source": [
    "def on_click(change):\n",
    "    img = PILImage.create(btn_upload.data[-1])\n",
    "    out_pl.clear_output()\n",
    "    with out_pl: display(img.to_thumb(128,128))\n",
    "    pred,pred_idx,probs = learn_inf.predict(img)\n",
    "    lbl_pred.value = f'Prediction: {pred}; Probability: {probs[pred_idx]:.04f}'"
   ]
  },
  {
   "cell_type": "code",
   "execution_count": 6,
   "id": "boolean-investigation",
   "metadata": {
    "ExecuteTime": {
     "end_time": "2021-01-27T19:46:32.955897Z",
     "start_time": "2021-01-27T19:46:32.920562Z"
    }
   },
   "outputs": [],
   "source": [
    "btn_upload.observe(on_click, names=['data'])"
   ]
  },
  {
   "cell_type": "code",
   "execution_count": 7,
   "id": "insured-riverside",
   "metadata": {
    "ExecuteTime": {
     "end_time": "2021-01-27T19:46:34.273412Z",
     "start_time": "2021-01-27T19:46:34.170824Z"
    }
   },
   "outputs": [
    {
     "data": {
      "application/vnd.jupyter.widget-view+json": {
       "model_id": "69f2747d70aa450b8714fe83e3ddd639",
       "version_major": 2,
       "version_minor": 0
      },
      "text/plain": [
       "VBox(children=(Label(value='Select your bear!'), FileUpload(value={}, description='Upload'), Output(), Label(v…"
      ]
     },
     "metadata": {},
     "output_type": "display_data"
    }
   ],
   "source": [
    "display(VBox([widgets.Label('Select your bear!'), btn_upload, out_pl, lbl_pred]))"
   ]
  },
  {
   "cell_type": "code",
   "execution_count": 8,
   "id": "flexible-scanning",
   "metadata": {
    "ExecuteTime": {
     "end_time": "2021-01-27T19:46:50.386677Z",
     "start_time": "2021-01-27T19:46:49.783901Z"
    }
   },
   "outputs": [
    {
     "name": "stdout",
     "output_type": "stream",
     "text": [
      "Enabling: voila\n",
      "- Writing config: /home/johann/.jupyter\n",
      "    - Validating...\n",
      "      voila 0.2.6 \u001b[32mOK\u001b[0m\n"
     ]
    }
   ],
   "source": [
    "#!jupyter serverextension enable voila --user"
   ]
  },
  {
   "cell_type": "code",
   "execution_count": 9,
   "id": "compact-fraud",
   "metadata": {
    "ExecuteTime": {
     "end_time": "2021-01-27T16:58:59.316744Z",
     "start_time": "2021-01-27T16:58:59.300573Z"
    }
   },
   "outputs": [],
   "source": [
    "#!voila Bear_Classifier.ipynb"
   ]
  },
  {
   "cell_type": "markdown",
   "id": "floppy-privacy",
   "metadata": {},
   "source": [
    "### Deploying zo Heroku"
   ]
  },
  {
   "cell_type": "markdown",
   "id": "promotional-receiver",
   "metadata": {},
   "source": [
    "https://course.fast.ai/deployment_heroku"
   ]
  }
 ],
 "metadata": {
  "hide_input": false,
  "kernelspec": {
   "display_name": "Python 3",
   "language": "python",
   "name": "python3"
  },
  "language_info": {
   "codemirror_mode": {
    "name": "ipython",
    "version": 3
   },
   "file_extension": ".py",
   "mimetype": "text/x-python",
   "name": "python",
   "nbconvert_exporter": "python",
   "pygments_lexer": "ipython3",
   "version": "3.7.9"
  },
  "toc": {
   "base_numbering": 1,
   "nav_menu": {},
   "number_sections": true,
   "sideBar": true,
   "skip_h1_title": false,
   "title_cell": "Zusammenfassung",
   "title_sidebar": "Inhalte",
   "toc_cell": false,
   "toc_position": {},
   "toc_section_display": true,
   "toc_window_display": false
  },
  "varInspector": {
   "cols": {
    "lenName": 16,
    "lenType": 16,
    "lenVar": 40
   },
   "kernels_config": {
    "python": {
     "delete_cmd_postfix": "",
     "delete_cmd_prefix": "del ",
     "library": "var_list.py",
     "varRefreshCmd": "print(var_dic_list())"
    },
    "r": {
     "delete_cmd_postfix": ") ",
     "delete_cmd_prefix": "rm(",
     "library": "var_list.r",
     "varRefreshCmd": "cat(var_dic_list()) "
    }
   },
   "types_to_exclude": [
    "module",
    "function",
    "builtin_function_or_method",
    "instance",
    "_Feature"
   ],
   "window_display": false
  }
 },
 "nbformat": 4,
 "nbformat_minor": 5
}
